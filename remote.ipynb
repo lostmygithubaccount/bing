{
 "cells": [
  {
   "cell_type": "markdown",
   "metadata": {},
   "source": [
    "## Get Workspace"
   ]
  },
  {
   "cell_type": "code",
   "execution_count": 1,
   "metadata": {},
   "outputs": [
    {
     "name": "stderr",
     "output_type": "stream",
     "text": [
      "Warning: Falling back to use azure cli login credentials.\n",
      "If you run your code in unattended mode, i.e., where you can't give a user input, then we recommend to use ServicePrincipalAuthentication or MsiAuthentication.\n",
      "Please refer to aka.ms/aml-notebook-auth for different authentication mechanisms in azureml-sdk.\n"
     ]
    },
    {
     "data": {
      "text/plain": [
       "Workspace.create(name='bing-eastus', subscription_id='6560575d-fa06-4e7d-95fb-f962e74efd7a', resource_group='cody-bing')"
      ]
     },
     "execution_count": 1,
     "metadata": {},
     "output_type": "execute_result"
    }
   ],
   "source": [
    "from azureml.core import Workspace\n",
    "\n",
    "ws = Workspace.from_config()\n",
    "ws"
   ]
  },
  {
   "cell_type": "markdown",
   "metadata": {},
   "source": [
    "## Prepare Data"
   ]
  },
  {
   "cell_type": "code",
   "execution_count": 4,
   "metadata": {},
   "outputs": [
    {
     "data": {
      "text/html": [
       "<table style=\"width:100%\"><tr><th>Experiment</th><th>Id</th><th>Type</th><th>Status</th><th>Details Page</th><th>Docs Page</th></tr><tr><td>default</td><td>default_1610498744_226ba0d6</td><td>azureml.scriptrun</td><td>Preparing</td><td><a href=\"https://ml.azure.com/experiments/default/runs/default_1610498744_226ba0d6?wsid=/subscriptions/6560575d-fa06-4e7d-95fb-f962e74efd7a/resourcegroups/cody-bing/workspaces/bing-eastus\" target=\"_blank\" rel=\"noopener\">Link to Azure Machine Learning studio</a></td><td><a href=\"https://docs.microsoft.com/en-us/python/api/azureml-core/azureml.core.script_run.ScriptRun?view=azure-ml-py\" target=\"_blank\" rel=\"noopener\">Link to Documentation</a></td></tr></table>"
      ],
      "text/plain": [
       "Run(Experiment: default,\n",
       "Id: default_1610498744_226ba0d6,\n",
       "Type: azureml.scriptrun,\n",
       "Status: Preparing)"
      ]
     },
     "execution_count": 4,
     "metadata": {},
     "output_type": "execute_result"
    }
   ],
   "source": [
    "from azureml.core import ScriptRunConfig, Experiment, Environment\n",
    "\n",
    "# arguments\n",
    "npartitions = 2048\n",
    "filename = \"azureml/a59853eb-a1ae-4444-8aed-6712f77f6aba/LGBMTrainTSV\"\n",
    "output = f\"cody-bing/out/90gb/{npartitions}/train.parquet\"\n",
    "\n",
    "# azureml setup\n",
    "compute_target = \"cpu-m128ms\"\n",
    "\n",
    "# submit run\n",
    "arguments = [\"--input\", filename, \"--npartitions\", npartitions]\n",
    "env = Environment.from_conda_specification(\"lightgbm-cpu-tutorial\", \"environment.yml\")\n",
    "src = ScriptRunConfig(\n",
    "    source_directory=\"src\",\n",
    "    script=\"prep.py\",\n",
    "    arguments=arguments,\n",
    "    compute_target=compute_target,\n",
    "    environment=env,\n",
    ")\n",
    "run = Experiment(ws, \"default\").submit(src)\n",
    "run"
   ]
  },
  {
   "cell_type": "markdown",
   "metadata": {},
   "source": [
    "## Train LightGBM"
   ]
  },
  {
   "cell_type": "code",
   "execution_count": null,
   "metadata": {},
   "outputs": [],
   "source": [
    "from azureml.core import ScriptRunConfig, Experiment, Environment\n",
    "from azureml.core.runconfig import MpiConfiguration\n",
    "\n",
    "# arguments\n",
    "boosting = \"gbdt\"\n",
    "iterations = 3\n",
    "lr = 0.2\n",
    "leaves = 31\n",
    "\n",
    "# azureml setup\n",
    "compute_target = \"cpu-d32sv3\"\n",
    "\n",
    "nodes = 100 + 2\n",
    "cpus = 32\n",
    "\n",
    "# submit run\n",
    "arguments = [\n",
    "    \"--input\",\n",
    "    output,\n",
    "    \"--boosting\",\n",
    "    boosting,\n",
    "    \"--num_iterations\",\n",
    "    iterations,\n",
    "    \"--learning_rate\",\n",
    "    lr,\n",
    "    \"--num_leaves\",\n",
    "    leaves,\n",
    "    \"--nodes\",\n",
    "    nodes,\n",
    "    \"--cpus\",\n",
    "    cpus,\n",
    "]\n",
    "env = Environment.from_conda_specification(\"lightgbm-cpu-tutorial\", \"environment.yml\")\n",
    "mpi_config = MpiConfiguration(node_count=nodes)\n",
    "src = ScriptRunConfig(\n",
    "    source_directory=\"src\",\n",
    "    script=\"train.py\",\n",
    "    arguments=arguments,\n",
    "    compute_target=compute_target,\n",
    "    environment=env,\n",
    "    distributed_job_config=mpi_config,\n",
    ")\n",
    "run = Experiment(ws, \"default\").submit(src)\n",
    "run"
   ]
  },
  {
   "cell_type": "code",
   "execution_count": null,
   "metadata": {},
   "outputs": [],
   "source": []
  }
 ],
 "metadata": {
  "kernelspec": {
   "display_name": "Python 3",
   "language": "python",
   "name": "python3"
  },
  "language_info": {
   "codemirror_mode": {
    "name": "ipython",
    "version": 3
   },
   "file_extension": ".py",
   "mimetype": "text/x-python",
   "name": "python",
   "nbconvert_exporter": "python",
   "pygments_lexer": "ipython3",
   "version": "3.8.5"
  }
 },
 "nbformat": 4,
 "nbformat_minor": 2
}
