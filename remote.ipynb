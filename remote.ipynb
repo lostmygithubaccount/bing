{
 "cells": [
  {
   "cell_type": "markdown",
   "metadata": {},
   "source": [
    "## Get Workspace"
   ]
  },
  {
   "cell_type": "code",
   "execution_count": 1,
   "metadata": {},
   "outputs": [
    {
     "name": "stderr",
     "output_type": "stream",
     "text": [
      "Warning: Falling back to use azure cli login credentials.\n",
      "If you run your code in unattended mode, i.e., where you can't give a user input, then we recommend to use ServicePrincipalAuthentication or MsiAuthentication.\n",
      "Please refer to aka.ms/aml-notebook-auth for different authentication mechanisms in azureml-sdk.\n"
     ]
    },
    {
     "data": {
      "text/plain": "Workspace.create(name='aml1p-ml-wus2', subscription_id='48bbc269-ce89-4f6f-9a12-c6f91fcb772d', resource_group='aml1p-rg')"
     },
     "execution_count": 1,
     "metadata": {},
     "output_type": "execute_result"
    }
   ],
   "source": [
    "from azureml.core import Workspace\n",
    "\n",
    "ws = Workspace.from_config()\n",
    "ws"
   ]
  },
  {
   "cell_type": "markdown",
   "metadata": {},
   "source": [
    "## Distribute Remotely"
   ]
  },
  {
   "cell_type": "code",
   "execution_count": 6,
   "metadata": {},
   "outputs": [
    {
     "data": {
      "text/html": "<table style=\"width:100%\"><tr><th>Experiment</th><th>Id</th><th>Type</th><th>Status</th><th>Details Page</th><th>Docs Page</th></tr><tr><td>cody-lightgbm-dask-test</td><td>cody-lightgbm-dask-test_1610400740_1f457e64</td><td>azureml.scriptrun</td><td>Preparing</td><td><a href=\"https://ml.azure.com/experiments/cody-lightgbm-dask-test/runs/cody-lightgbm-dask-test_1610400740_1f457e64?wsid=/subscriptions/48bbc269-ce89-4f6f-9a12-c6f91fcb772d/resourcegroups/aml1p-rg/workspaces/aml1p-ml-wus2\" target=\"_blank\" rel=\"noopener\">Link to Azure Machine Learning studio</a></td><td><a href=\"https://docs.microsoft.com/en-us/python/api/azureml-core/azureml.core.script_run.ScriptRun?view=azure-ml-py\" target=\"_blank\" rel=\"noopener\">Link to Documentation</a></td></tr></table>",
      "text/plain": "Run(Experiment: cody-lightgbm-dask-test,\nId: cody-lightgbm-dask-test_1610400740_1f457e64,\nType: azureml.scriptrun,\nStatus: Preparing)"
     },
     "execution_count": 6,
     "metadata": {},
     "output_type": "execute_result"
    }
   ],
   "source": [
    "from azureml.core import ScriptRunConfig, Experiment, Environment\n",
    "from azureml.core.runconfig import MpiConfiguration\n",
    "\n",
    "# arguments\n",
    "filename = \"azureml/a59853eb-a1ae-4444-8aed-6712f77f6aba/LGBMTrainTSV\"\n",
    "boosting = \"gbdt\"\n",
    "iterations = 100\n",
    "lr = 0.2\n",
    "leaves = 31\n",
    "\n",
    "# azureml setup\n",
    "compute_target = \"cpu-m64-lowpri\"\n",
    "compute_target = \"cpu-m16ms-lowpri\"\n",
    "\n",
    "nodes = 10\n",
    "\n",
    "# submit run\n",
    "arguments = [\"--filename\", filename, \"--boosting\", boosting, \"--num_iterations\", iterations, \"--learning_rate\", lr, \"--num_leaves\", leaves, \"--nodes\", nodes]\n",
    "env = Environment.from_conda_specification(\"lightgbm-cpu-tutorial\", \"environment.yml\")\n",
    "mpi_config = MpiConfiguration(node_count=nodes)\n",
    "src = ScriptRunConfig(\n",
    "    source_directory=\"src\",\n",
    "    script=\"run.py\",\n",
    "    arguments=arguments,\n",
    "    compute_target=compute_target,\n",
    "    environment=env,\n",
    "    distributed_job_config=mpi_config,\n",
    ")\n",
    "run = Experiment(ws, \"cody-lightgbm-dask-test\").submit(src)\n",
    "run"
   ]
  },
  {
   "cell_type": "code",
   "execution_count": null,
   "metadata": {},
   "outputs": [],
   "source": []
  }
 ],
 "metadata": {
  "kernelspec": {
   "display_name": "Python 3",
   "name": "python3"
  },
  "language_info": {
   "codemirror_mode": {
    "name": "ipython",
    "version": 3
   },
   "file_extension": ".py",
   "mimetype": "text/x-python",
   "name": "python",
   "nbconvert_exporter": "python",
   "pygments_lexer": "ipython3",
   "version": "3.8.5"
  },
  "orig_nbformat": 2
 },
 "nbformat": 4,
 "nbformat_minor": 2
}